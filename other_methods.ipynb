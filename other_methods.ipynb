{
 "cells": [
  {
   "cell_type": "code",
   "execution_count": 2,
   "metadata": {},
   "outputs": [
    {
     "name": "stdout",
     "output_type": "stream",
     "text": [
      "Defaulting to user installation because normal site-packages is not writeable\n",
      "Requirement already satisfied: appdirs==1.4.4 in /Users/aryanlangeh/Library/Python/3.9/lib/python/site-packages (from -r requirements.txt (line 1)) (1.4.4)\n",
      "Requirement already satisfied: packaging==23.1 in /Users/aryanlangeh/Library/Python/3.9/lib/python/site-packages (from -r requirements.txt (line 2)) (23.1)\n",
      "Requirement already satisfied: beautifulsoup4==4.12.2 in /Users/aryanlangeh/Library/Python/3.9/lib/python/site-packages (from -r requirements.txt (line 3)) (4.12.2)\n",
      "Requirement already satisfied: certifi==2023.7.22 in /Users/aryanlangeh/Library/Python/3.9/lib/python/site-packages (from -r requirements.txt (line 4)) (2023.7.22)\n",
      "Requirement already satisfied: charset-normalizer==3.2.0 in /Users/aryanlangeh/Library/Python/3.9/lib/python/site-packages (from -r requirements.txt (line 5)) (3.2.0)\n",
      "Requirement already satisfied: contourpy==1.1.0 in /Users/aryanlangeh/Library/Python/3.9/lib/python/site-packages (from -r requirements.txt (line 6)) (1.1.0)\n",
      "Requirement already satisfied: cvxpy==1.3.2 in /Users/aryanlangeh/Library/Python/3.9/lib/python/site-packages (from -r requirements.txt (line 7)) (1.3.2)\n",
      "Requirement already satisfied: cycler==0.11.0 in /Users/aryanlangeh/Library/Python/3.9/lib/python/site-packages (from -r requirements.txt (line 8)) (0.11.0)\n",
      "Requirement already satisfied: ecos==2.0.12 in /Users/aryanlangeh/Library/Python/3.9/lib/python/site-packages (from -r requirements.txt (line 9)) (2.0.12)\n",
      "Requirement already satisfied: fonttools==4.42.1 in /Users/aryanlangeh/Library/Python/3.9/lib/python/site-packages (from -r requirements.txt (line 10)) (4.42.1)\n",
      "Requirement already satisfied: frozendict==2.3.8 in /Users/aryanlangeh/Library/Python/3.9/lib/python/site-packages (from -r requirements.txt (line 11)) (2.3.8)\n",
      "Requirement already satisfied: html5lib==1.1 in /Users/aryanlangeh/Library/Python/3.9/lib/python/site-packages (from -r requirements.txt (line 12)) (1.1)\n",
      "Requirement already satisfied: idna==3.4 in /Users/aryanlangeh/Library/Python/3.9/lib/python/site-packages (from -r requirements.txt (line 13)) (3.4)\n",
      "Requirement already satisfied: importlib-resources==6.0.1 in /Users/aryanlangeh/Library/Python/3.9/lib/python/site-packages (from -r requirements.txt (line 14)) (6.0.1)\n",
      "Requirement already satisfied: joblib==1.3.2 in /Users/aryanlangeh/Library/Python/3.9/lib/python/site-packages (from -r requirements.txt (line 15)) (1.3.2)\n",
      "Requirement already satisfied: kiwisolver==1.4.4 in /Users/aryanlangeh/Library/Python/3.9/lib/python/site-packages (from -r requirements.txt (line 16)) (1.4.4)\n",
      "Requirement already satisfied: lxml==4.9.3 in /Users/aryanlangeh/Library/Python/3.9/lib/python/site-packages (from -r requirements.txt (line 17)) (4.9.3)\n",
      "Requirement already satisfied: matplotlib==3.7.2 in /Users/aryanlangeh/Library/Python/3.9/lib/python/site-packages (from -r requirements.txt (line 18)) (3.7.2)\n",
      "Requirement already satisfied: multitasking==0.0.11 in /Users/aryanlangeh/Library/Python/3.9/lib/python/site-packages (from -r requirements.txt (line 19)) (0.0.11)\n",
      "Requirement already satisfied: numpy==1.25.2 in /Users/aryanlangeh/Library/Python/3.9/lib/python/site-packages (from -r requirements.txt (line 20)) (1.25.2)\n",
      "Requirement already satisfied: osqp==0.6.3 in /Users/aryanlangeh/Library/Python/3.9/lib/python/site-packages (from -r requirements.txt (line 21)) (0.6.3)\n",
      "Requirement already satisfied: pandas==2.0.3 in /Users/aryanlangeh/Library/Python/3.9/lib/python/site-packages (from -r requirements.txt (line 22)) (2.0.3)\n",
      "Requirement already satisfied: pandas-datareader==0.10.0 in /Users/aryanlangeh/Library/Python/3.9/lib/python/site-packages (from -r requirements.txt (line 23)) (0.10.0)\n",
      "Requirement already satisfied: Pillow==10.0.0 in /Users/aryanlangeh/Library/Python/3.9/lib/python/site-packages (from -r requirements.txt (line 24)) (10.0.0)\n",
      "Requirement already satisfied: pyparsing==3.0.9 in /Users/aryanlangeh/Library/Python/3.9/lib/python/site-packages (from -r requirements.txt (line 25)) (3.0.9)\n",
      "Requirement already satisfied: pyportfolioopt==1.5.5 in /Users/aryanlangeh/Library/Python/3.9/lib/python/site-packages (from -r requirements.txt (line 26)) (1.5.5)\n",
      "Requirement already satisfied: python-dateutil==2.8.2 in /Users/aryanlangeh/Library/Python/3.9/lib/python/site-packages (from -r requirements.txt (line 27)) (2.8.2)\n",
      "Requirement already satisfied: pytz==2023.3 in /Users/aryanlangeh/Library/Python/3.9/lib/python/site-packages (from -r requirements.txt (line 28)) (2023.3)\n",
      "Requirement already satisfied: qdldl==0.1.7.post0 in /Users/aryanlangeh/Library/Python/3.9/lib/python/site-packages (from -r requirements.txt (line 29)) (0.1.7.post0)\n",
      "Requirement already satisfied: requests==2.31.0 in /Users/aryanlangeh/Library/Python/3.9/lib/python/site-packages (from -r requirements.txt (line 30)) (2.31.0)\n",
      "Requirement already satisfied: scikit-learn==1.3.0 in /Users/aryanlangeh/Library/Python/3.9/lib/python/site-packages (from -r requirements.txt (line 31)) (1.3.0)\n",
      "Requirement already satisfied: scipy==1.11.2 in /Users/aryanlangeh/Library/Python/3.9/lib/python/site-packages (from -r requirements.txt (line 32)) (1.11.2)\n",
      "Requirement already satisfied: scs==3.2.3 in /Users/aryanlangeh/Library/Python/3.9/lib/python/site-packages (from -r requirements.txt (line 33)) (3.2.3)\n",
      "Requirement already satisfied: six==1.16.0 in /Users/aryanlangeh/Library/Python/3.9/lib/python/site-packages (from -r requirements.txt (line 34)) (1.16.0)\n",
      "Requirement already satisfied: soupsieve==2.4.1 in /Users/aryanlangeh/Library/Python/3.9/lib/python/site-packages (from -r requirements.txt (line 35)) (2.4.1)\n",
      "Requirement already satisfied: threadpoolctl==3.2.0 in /Users/aryanlangeh/Library/Python/3.9/lib/python/site-packages (from -r requirements.txt (line 36)) (3.2.0)\n",
      "Requirement already satisfied: tzdata==2023.3 in /Users/aryanlangeh/Library/Python/3.9/lib/python/site-packages (from -r requirements.txt (line 37)) (2023.3)\n",
      "Requirement already satisfied: urllib3==2.0.4 in /Users/aryanlangeh/Library/Python/3.9/lib/python/site-packages (from -r requirements.txt (line 38)) (2.0.4)\n",
      "Requirement already satisfied: webencodings==0.5.1 in /Users/aryanlangeh/Library/Python/3.9/lib/python/site-packages (from -r requirements.txt (line 39)) (0.5.1)\n",
      "Requirement already satisfied: yfinance==0.2.28 in /Users/aryanlangeh/Library/Python/3.9/lib/python/site-packages (from -r requirements.txt (line 40)) (0.2.28)\n",
      "Requirement already satisfied: zipp==3.16.2 in /Users/aryanlangeh/Library/Python/3.9/lib/python/site-packages (from -r requirements.txt (line 41)) (3.16.2)\n",
      "Requirement already satisfied: setuptools>65.5.1 in /Users/aryanlangeh/Library/Python/3.9/lib/python/site-packages (from cvxpy==1.3.2->-r requirements.txt (line 7)) (68.1.2)\n",
      "\u001b[33mWARNING: You are using pip version 21.2.4; however, version 23.2.1 is available.\n",
      "You should consider upgrading via the '/Library/Developer/CommandLineTools/usr/bin/python3 -m pip install --upgrade pip' command.\u001b[0m\n",
      "Note: you may need to restart the kernel to use updated packages.\n"
     ]
    }
   ],
   "source": [
    "%pip install -r requirements.txt"
   ]
  },
  {
   "cell_type": "markdown",
   "metadata": {},
   "source": [
    "# Imports"
   ]
  },
  {
   "cell_type": "code",
   "execution_count": 3,
   "metadata": {},
   "outputs": [
    {
     "name": "stderr",
     "output_type": "stream",
     "text": [
      "/Users/aryanlangeh/Library/Python/3.9/lib/python/site-packages/urllib3/__init__.py:34: NotOpenSSLWarning: urllib3 v2.0 only supports OpenSSL 1.1.1+, currently the 'ssl' module is compiled with 'LibreSSL 2.8.3'. See: https://github.com/urllib3/urllib3/issues/3020\n",
      "  warnings.warn(\n"
     ]
    }
   ],
   "source": [
    "import pandas_datareader.data as web\n",
    "import datetime\n",
    "import matplotlib.pyplot as plt\n",
    "import numpy as np\n",
    "import pandas as pd\n",
    "import requests\n",
    "import yfinance as yf"
   ]
  },
  {
   "cell_type": "markdown",
   "metadata": {},
   "source": [
    "Start and End Dates"
   ]
  },
  {
   "cell_type": "code",
   "execution_count": 4,
   "metadata": {},
   "outputs": [],
   "source": [
    "start = datetime.datetime(2020, 1, 1) # format in yyyy, mm, dd\n",
    "end = datetime.datetime(2023, 8, 20)"
   ]
  },
  {
   "cell_type": "markdown",
   "metadata": {},
   "source": [
    "# Code"
   ]
  },
  {
   "cell_type": "markdown",
   "metadata": {},
   "source": [
    "Function to get stock data"
   ]
  },
  {
   "cell_type": "code",
   "execution_count": 5,
   "metadata": {},
   "outputs": [
    {
     "name": "stdout",
     "output_type": "stream",
     "text": [
      "[*********************100%%**********************]  12 of 12 completed\n"
     ]
    }
   ],
   "source": [
    "stocks = [\"MRNA\", \"PFE\", \"JNJ\", \"GOOGL\", \n",
    "          \"META\", \"AAPL\", \"COST\", \"WMT\", \"KR\", \"JPM\", \n",
    "          \"BAC\", \"HSBC\"]\n",
    "portfolio = yf.download(stocks, start=\"2020-01-01\", end=\"2023-08-21\")['Adj Close']"
   ]
  },
  {
   "cell_type": "code",
   "execution_count": 6,
   "metadata": {},
   "outputs": [
    {
     "data": {
      "text/html": [
       "<div>\n",
       "<style scoped>\n",
       "    .dataframe tbody tr th:only-of-type {\n",
       "        vertical-align: middle;\n",
       "    }\n",
       "\n",
       "    .dataframe tbody tr th {\n",
       "        vertical-align: top;\n",
       "    }\n",
       "\n",
       "    .dataframe thead th {\n",
       "        text-align: right;\n",
       "    }\n",
       "</style>\n",
       "<table border=\"1\" class=\"dataframe\">\n",
       "  <thead>\n",
       "    <tr style=\"text-align: right;\">\n",
       "      <th></th>\n",
       "      <th>AAPL</th>\n",
       "      <th>BAC</th>\n",
       "      <th>COST</th>\n",
       "      <th>GOOGL</th>\n",
       "      <th>HSBC</th>\n",
       "      <th>JNJ</th>\n",
       "      <th>JPM</th>\n",
       "      <th>KR</th>\n",
       "      <th>META</th>\n",
       "      <th>MRNA</th>\n",
       "      <th>PFE</th>\n",
       "      <th>WMT</th>\n",
       "    </tr>\n",
       "    <tr>\n",
       "      <th>Date</th>\n",
       "      <th></th>\n",
       "      <th></th>\n",
       "      <th></th>\n",
       "      <th></th>\n",
       "      <th></th>\n",
       "      <th></th>\n",
       "      <th></th>\n",
       "      <th></th>\n",
       "      <th></th>\n",
       "      <th></th>\n",
       "      <th></th>\n",
       "      <th></th>\n",
       "    </tr>\n",
       "  </thead>\n",
       "  <tbody>\n",
       "    <tr>\n",
       "      <th>2020-01-02</th>\n",
       "      <td>73.249023</td>\n",
       "      <td>32.531406</td>\n",
       "      <td>276.085876</td>\n",
       "      <td>68.433998</td>\n",
       "      <td>33.379887</td>\n",
       "      <td>132.136688</td>\n",
       "      <td>125.942886</td>\n",
       "      <td>26.513746</td>\n",
       "      <td>209.779999</td>\n",
       "      <td>19.230000</td>\n",
       "      <td>32.239513</td>\n",
       "      <td>112.085152</td>\n",
       "    </tr>\n",
       "    <tr>\n",
       "      <th>2020-01-03</th>\n",
       "      <td>72.536903</td>\n",
       "      <td>31.855951</td>\n",
       "      <td>276.313202</td>\n",
       "      <td>68.075996</td>\n",
       "      <td>32.862690</td>\n",
       "      <td>130.606857</td>\n",
       "      <td>124.280884</td>\n",
       "      <td>26.550755</td>\n",
       "      <td>208.669998</td>\n",
       "      <td>18.889999</td>\n",
       "      <td>32.066540</td>\n",
       "      <td>111.095642</td>\n",
       "    </tr>\n",
       "    <tr>\n",
       "      <th>2020-01-06</th>\n",
       "      <td>73.114891</td>\n",
       "      <td>31.810305</td>\n",
       "      <td>276.388977</td>\n",
       "      <td>69.890503</td>\n",
       "      <td>32.752483</td>\n",
       "      <td>130.443909</td>\n",
       "      <td>124.182068</td>\n",
       "      <td>26.643257</td>\n",
       "      <td>212.600006</td>\n",
       "      <td>18.129999</td>\n",
       "      <td>32.025345</td>\n",
       "      <td>110.869484</td>\n",
       "    </tr>\n",
       "    <tr>\n",
       "      <th>2020-01-07</th>\n",
       "      <td>72.771027</td>\n",
       "      <td>31.600370</td>\n",
       "      <td>275.953308</td>\n",
       "      <td>69.755501</td>\n",
       "      <td>32.506596</td>\n",
       "      <td>131.240433</td>\n",
       "      <td>122.070915</td>\n",
       "      <td>26.448992</td>\n",
       "      <td>213.059998</td>\n",
       "      <td>17.780001</td>\n",
       "      <td>31.918272</td>\n",
       "      <td>109.842308</td>\n",
       "    </tr>\n",
       "    <tr>\n",
       "      <th>2020-01-08</th>\n",
       "      <td>73.941628</td>\n",
       "      <td>31.919840</td>\n",
       "      <td>279.116791</td>\n",
       "      <td>70.251999</td>\n",
       "      <td>32.430294</td>\n",
       "      <td>131.222427</td>\n",
       "      <td>123.023186</td>\n",
       "      <td>26.291721</td>\n",
       "      <td>215.220001</td>\n",
       "      <td>17.980000</td>\n",
       "      <td>32.173615</td>\n",
       "      <td>109.465370</td>\n",
       "    </tr>\n",
       "    <tr>\n",
       "      <th>...</th>\n",
       "      <td>...</td>\n",
       "      <td>...</td>\n",
       "      <td>...</td>\n",
       "      <td>...</td>\n",
       "      <td>...</td>\n",
       "      <td>...</td>\n",
       "      <td>...</td>\n",
       "      <td>...</td>\n",
       "      <td>...</td>\n",
       "      <td>...</td>\n",
       "      <td>...</td>\n",
       "      <td>...</td>\n",
       "    </tr>\n",
       "    <tr>\n",
       "      <th>2023-08-14</th>\n",
       "      <td>179.460007</td>\n",
       "      <td>30.674379</td>\n",
       "      <td>560.411072</td>\n",
       "      <td>131.330002</td>\n",
       "      <td>39.779999</td>\n",
       "      <td>172.189819</td>\n",
       "      <td>154.770004</td>\n",
       "      <td>48.560001</td>\n",
       "      <td>306.190002</td>\n",
       "      <td>100.000000</td>\n",
       "      <td>36.070000</td>\n",
       "      <td>160.000000</td>\n",
       "    </tr>\n",
       "    <tr>\n",
       "      <th>2023-08-15</th>\n",
       "      <td>177.449997</td>\n",
       "      <td>29.692562</td>\n",
       "      <td>557.456726</td>\n",
       "      <td>129.779999</td>\n",
       "      <td>38.619999</td>\n",
       "      <td>171.693420</td>\n",
       "      <td>150.830002</td>\n",
       "      <td>47.950001</td>\n",
       "      <td>301.950012</td>\n",
       "      <td>96.410004</td>\n",
       "      <td>35.389999</td>\n",
       "      <td>159.179993</td>\n",
       "    </tr>\n",
       "    <tr>\n",
       "      <th>2023-08-16</th>\n",
       "      <td>176.570007</td>\n",
       "      <td>29.047934</td>\n",
       "      <td>557.995667</td>\n",
       "      <td>128.699997</td>\n",
       "      <td>37.990002</td>\n",
       "      <td>171.147385</td>\n",
       "      <td>150.190002</td>\n",
       "      <td>47.020000</td>\n",
       "      <td>294.290009</td>\n",
       "      <td>98.919998</td>\n",
       "      <td>35.480000</td>\n",
       "      <td>159.259995</td>\n",
       "    </tr>\n",
       "    <tr>\n",
       "      <th>2023-08-17</th>\n",
       "      <td>174.000000</td>\n",
       "      <td>29.038017</td>\n",
       "      <td>546.078186</td>\n",
       "      <td>129.919998</td>\n",
       "      <td>37.930000</td>\n",
       "      <td>172.755707</td>\n",
       "      <td>148.630005</td>\n",
       "      <td>46.740002</td>\n",
       "      <td>285.089996</td>\n",
       "      <td>106.239998</td>\n",
       "      <td>36.509998</td>\n",
       "      <td>155.690002</td>\n",
       "    </tr>\n",
       "    <tr>\n",
       "      <th>2023-08-18</th>\n",
       "      <td>174.490005</td>\n",
       "      <td>28.869421</td>\n",
       "      <td>543.912292</td>\n",
       "      <td>127.459999</td>\n",
       "      <td>37.660000</td>\n",
       "      <td>171.246674</td>\n",
       "      <td>148.970001</td>\n",
       "      <td>47.570000</td>\n",
       "      <td>283.250000</td>\n",
       "      <td>101.620003</td>\n",
       "      <td>36.660000</td>\n",
       "      <td>157.929993</td>\n",
       "    </tr>\n",
       "  </tbody>\n",
       "</table>\n",
       "<p>914 rows × 12 columns</p>\n",
       "</div>"
      ],
      "text/plain": [
       "                  AAPL        BAC        COST       GOOGL       HSBC  \\\n",
       "Date                                                                   \n",
       "2020-01-02   73.249023  32.531406  276.085876   68.433998  33.379887   \n",
       "2020-01-03   72.536903  31.855951  276.313202   68.075996  32.862690   \n",
       "2020-01-06   73.114891  31.810305  276.388977   69.890503  32.752483   \n",
       "2020-01-07   72.771027  31.600370  275.953308   69.755501  32.506596   \n",
       "2020-01-08   73.941628  31.919840  279.116791   70.251999  32.430294   \n",
       "...                ...        ...         ...         ...        ...   \n",
       "2023-08-14  179.460007  30.674379  560.411072  131.330002  39.779999   \n",
       "2023-08-15  177.449997  29.692562  557.456726  129.779999  38.619999   \n",
       "2023-08-16  176.570007  29.047934  557.995667  128.699997  37.990002   \n",
       "2023-08-17  174.000000  29.038017  546.078186  129.919998  37.930000   \n",
       "2023-08-18  174.490005  28.869421  543.912292  127.459999  37.660000   \n",
       "\n",
       "                   JNJ         JPM         KR        META        MRNA  \\\n",
       "Date                                                                    \n",
       "2020-01-02  132.136688  125.942886  26.513746  209.779999   19.230000   \n",
       "2020-01-03  130.606857  124.280884  26.550755  208.669998   18.889999   \n",
       "2020-01-06  130.443909  124.182068  26.643257  212.600006   18.129999   \n",
       "2020-01-07  131.240433  122.070915  26.448992  213.059998   17.780001   \n",
       "2020-01-08  131.222427  123.023186  26.291721  215.220001   17.980000   \n",
       "...                ...         ...        ...         ...         ...   \n",
       "2023-08-14  172.189819  154.770004  48.560001  306.190002  100.000000   \n",
       "2023-08-15  171.693420  150.830002  47.950001  301.950012   96.410004   \n",
       "2023-08-16  171.147385  150.190002  47.020000  294.290009   98.919998   \n",
       "2023-08-17  172.755707  148.630005  46.740002  285.089996  106.239998   \n",
       "2023-08-18  171.246674  148.970001  47.570000  283.250000  101.620003   \n",
       "\n",
       "                  PFE         WMT  \n",
       "Date                               \n",
       "2020-01-02  32.239513  112.085152  \n",
       "2020-01-03  32.066540  111.095642  \n",
       "2020-01-06  32.025345  110.869484  \n",
       "2020-01-07  31.918272  109.842308  \n",
       "2020-01-08  32.173615  109.465370  \n",
       "...               ...         ...  \n",
       "2023-08-14  36.070000  160.000000  \n",
       "2023-08-15  35.389999  159.179993  \n",
       "2023-08-16  35.480000  159.259995  \n",
       "2023-08-17  36.509998  155.690002  \n",
       "2023-08-18  36.660000  157.929993  \n",
       "\n",
       "[914 rows x 12 columns]"
      ]
     },
     "execution_count": 6,
     "metadata": {},
     "output_type": "execute_result"
    }
   ],
   "source": [
    "portfolio"
   ]
  },
  {
   "cell_type": "code",
   "execution_count": 7,
   "metadata": {},
   "outputs": [],
   "source": [
    "portfolio.to_csv(\"portfolio.csv\", index=False)"
   ]
  },
  {
   "cell_type": "code",
   "execution_count": 8,
   "metadata": {},
   "outputs": [],
   "source": [
    "portfolio = pd.read_csv(\"portfolio.csv\")"
   ]
  },
  {
   "cell_type": "markdown",
   "metadata": {},
   "source": [
    "Mean variance optimization (modern portfolio theory) doesn't work very well. The goal of MV optimization is to find portfolios that optimally diversify risk without reducing expected return and to facilitate portfolio construction. Basically for a given level of risk, get the highest possible return. Mean variance optimization doesn’t perform very well since it makes many simplifying assumptions, such as returns being normally distributed and the need for an invertible covariance matrix. Fortunately, methods like HRP and mCVAR address these limitations. \n",
    "\n",
    "Come back to this"
   ]
  },
  {
   "cell_type": "markdown",
   "metadata": {},
   "source": [
    "# MVO - Mean Variance Optimization"
   ]
  },
  {
   "cell_type": "code",
   "execution_count": 9,
   "metadata": {},
   "outputs": [
    {
     "name": "stdout",
     "output_type": "stream",
     "text": [
      "Defaulting to user installation because normal site-packages is not writeable\n",
      "Requirement already satisfied: scikit-learn in /Users/aryanlangeh/Library/Python/3.9/lib/python/site-packages (1.3.0)\n",
      "Requirement already satisfied: numpy>=1.17.3 in /Users/aryanlangeh/Library/Python/3.9/lib/python/site-packages (from scikit-learn) (1.25.2)\n",
      "Requirement already satisfied: joblib>=1.1.1 in /Users/aryanlangeh/Library/Python/3.9/lib/python/site-packages (from scikit-learn) (1.3.2)\n",
      "Requirement already satisfied: threadpoolctl>=2.0.0 in /Users/aryanlangeh/Library/Python/3.9/lib/python/site-packages (from scikit-learn) (3.2.0)\n",
      "Requirement already satisfied: scipy>=1.5.0 in /Users/aryanlangeh/Library/Python/3.9/lib/python/site-packages (from scikit-learn) (1.11.2)\n",
      "\u001b[33mWARNING: You are using pip version 21.2.4; however, version 23.2.1 is available.\n",
      "You should consider upgrading via the '/Library/Developer/CommandLineTools/usr/bin/python3 -m pip install --upgrade pip' command.\u001b[0m\n",
      "Note: you may need to restart the kernel to use updated packages.\n"
     ]
    }
   ],
   "source": [
    "%pip install scikit-learn"
   ]
  },
  {
   "cell_type": "code",
   "execution_count": 10,
   "metadata": {},
   "outputs": [],
   "source": [
    "from pypfopt import HRPOpt"
   ]
  },
  {
   "cell_type": "code",
   "execution_count": 11,
   "metadata": {},
   "outputs": [],
   "source": [
    "from pypfopt.expected_returns import mean_historical_return\n",
    "from pypfopt.risk_models import CovarianceShrinkage\n",
    "\n",
    "\n",
    "mu = mean_historical_return(portfolio)\n",
    "S = CovarianceShrinkage(portfolio).ledoit_wolf()"
   ]
  },
  {
   "cell_type": "code",
   "execution_count": 12,
   "metadata": {},
   "outputs": [
    {
     "data": {
      "text/html": [
       "<div>\n",
       "<style scoped>\n",
       "    .dataframe tbody tr th:only-of-type {\n",
       "        vertical-align: middle;\n",
       "    }\n",
       "\n",
       "    .dataframe tbody tr th {\n",
       "        vertical-align: top;\n",
       "    }\n",
       "\n",
       "    .dataframe thead th {\n",
       "        text-align: right;\n",
       "    }\n",
       "</style>\n",
       "<table border=\"1\" class=\"dataframe\">\n",
       "  <thead>\n",
       "    <tr style=\"text-align: right;\">\n",
       "      <th></th>\n",
       "      <th>AAPL</th>\n",
       "      <th>BAC</th>\n",
       "      <th>COST</th>\n",
       "      <th>GOOGL</th>\n",
       "      <th>HSBC</th>\n",
       "      <th>JNJ</th>\n",
       "      <th>JPM</th>\n",
       "      <th>KR</th>\n",
       "      <th>META</th>\n",
       "      <th>MRNA</th>\n",
       "      <th>PFE</th>\n",
       "      <th>WMT</th>\n",
       "    </tr>\n",
       "  </thead>\n",
       "  <tbody>\n",
       "    <tr>\n",
       "      <th>AAPL</th>\n",
       "      <td>0.121165</td>\n",
       "      <td>0.061165</td>\n",
       "      <td>0.053809</td>\n",
       "      <td>0.080949</td>\n",
       "      <td>0.034183</td>\n",
       "      <td>0.031553</td>\n",
       "      <td>0.056008</td>\n",
       "      <td>0.018102</td>\n",
       "      <td>0.099681</td>\n",
       "      <td>0.046887</td>\n",
       "      <td>0.031710</td>\n",
       "      <td>0.034055</td>\n",
       "    </tr>\n",
       "    <tr>\n",
       "      <th>BAC</th>\n",
       "      <td>0.061165</td>\n",
       "      <td>0.154627</td>\n",
       "      <td>0.032500</td>\n",
       "      <td>0.060549</td>\n",
       "      <td>0.079432</td>\n",
       "      <td>0.035268</td>\n",
       "      <td>0.126314</td>\n",
       "      <td>0.013358</td>\n",
       "      <td>0.064866</td>\n",
       "      <td>0.008361</td>\n",
       "      <td>0.039712</td>\n",
       "      <td>0.026072</td>\n",
       "    </tr>\n",
       "    <tr>\n",
       "      <th>COST</th>\n",
       "      <td>0.053809</td>\n",
       "      <td>0.032500</td>\n",
       "      <td>0.068913</td>\n",
       "      <td>0.045715</td>\n",
       "      <td>0.017938</td>\n",
       "      <td>0.024322</td>\n",
       "      <td>0.029896</td>\n",
       "      <td>0.028656</td>\n",
       "      <td>0.050831</td>\n",
       "      <td>0.029599</td>\n",
       "      <td>0.024225</td>\n",
       "      <td>0.038938</td>\n",
       "    </tr>\n",
       "    <tr>\n",
       "      <th>GOOGL</th>\n",
       "      <td>0.080949</td>\n",
       "      <td>0.060549</td>\n",
       "      <td>0.045715</td>\n",
       "      <td>0.117288</td>\n",
       "      <td>0.034105</td>\n",
       "      <td>0.027032</td>\n",
       "      <td>0.053859</td>\n",
       "      <td>0.011362</td>\n",
       "      <td>0.110004</td>\n",
       "      <td>0.041717</td>\n",
       "      <td>0.030035</td>\n",
       "      <td>0.027376</td>\n",
       "    </tr>\n",
       "    <tr>\n",
       "      <th>HSBC</th>\n",
       "      <td>0.034183</td>\n",
       "      <td>0.079432</td>\n",
       "      <td>0.017938</td>\n",
       "      <td>0.034105</td>\n",
       "      <td>0.104468</td>\n",
       "      <td>0.020430</td>\n",
       "      <td>0.071834</td>\n",
       "      <td>0.006702</td>\n",
       "      <td>0.035027</td>\n",
       "      <td>0.000740</td>\n",
       "      <td>0.021567</td>\n",
       "      <td>0.012730</td>\n",
       "    </tr>\n",
       "    <tr>\n",
       "      <th>JNJ</th>\n",
       "      <td>0.031553</td>\n",
       "      <td>0.035268</td>\n",
       "      <td>0.024322</td>\n",
       "      <td>0.027032</td>\n",
       "      <td>0.020430</td>\n",
       "      <td>0.047214</td>\n",
       "      <td>0.032547</td>\n",
       "      <td>0.016159</td>\n",
       "      <td>0.025841</td>\n",
       "      <td>0.016916</td>\n",
       "      <td>0.033679</td>\n",
       "      <td>0.022980</td>\n",
       "    </tr>\n",
       "    <tr>\n",
       "      <th>JPM</th>\n",
       "      <td>0.056008</td>\n",
       "      <td>0.126314</td>\n",
       "      <td>0.029896</td>\n",
       "      <td>0.053859</td>\n",
       "      <td>0.071834</td>\n",
       "      <td>0.032547</td>\n",
       "      <td>0.128703</td>\n",
       "      <td>0.009901</td>\n",
       "      <td>0.056887</td>\n",
       "      <td>0.005120</td>\n",
       "      <td>0.037643</td>\n",
       "      <td>0.022814</td>\n",
       "    </tr>\n",
       "    <tr>\n",
       "      <th>KR</th>\n",
       "      <td>0.018102</td>\n",
       "      <td>0.013358</td>\n",
       "      <td>0.028656</td>\n",
       "      <td>0.011362</td>\n",
       "      <td>0.006702</td>\n",
       "      <td>0.016159</td>\n",
       "      <td>0.009901</td>\n",
       "      <td>0.094369</td>\n",
       "      <td>0.011114</td>\n",
       "      <td>0.010723</td>\n",
       "      <td>0.014678</td>\n",
       "      <td>0.030303</td>\n",
       "    </tr>\n",
       "    <tr>\n",
       "      <th>META</th>\n",
       "      <td>0.099681</td>\n",
       "      <td>0.064866</td>\n",
       "      <td>0.050831</td>\n",
       "      <td>0.110004</td>\n",
       "      <td>0.035027</td>\n",
       "      <td>0.025841</td>\n",
       "      <td>0.056887</td>\n",
       "      <td>0.011114</td>\n",
       "      <td>0.231565</td>\n",
       "      <td>0.058201</td>\n",
       "      <td>0.029355</td>\n",
       "      <td>0.027395</td>\n",
       "    </tr>\n",
       "    <tr>\n",
       "      <th>MRNA</th>\n",
       "      <td>0.046887</td>\n",
       "      <td>0.008361</td>\n",
       "      <td>0.029599</td>\n",
       "      <td>0.041717</td>\n",
       "      <td>0.000740</td>\n",
       "      <td>0.016916</td>\n",
       "      <td>0.005120</td>\n",
       "      <td>0.010723</td>\n",
       "      <td>0.058201</td>\n",
       "      <td>0.627032</td>\n",
       "      <td>0.045920</td>\n",
       "      <td>0.020167</td>\n",
       "    </tr>\n",
       "    <tr>\n",
       "      <th>PFE</th>\n",
       "      <td>0.031710</td>\n",
       "      <td>0.039712</td>\n",
       "      <td>0.024225</td>\n",
       "      <td>0.030035</td>\n",
       "      <td>0.021567</td>\n",
       "      <td>0.033679</td>\n",
       "      <td>0.037643</td>\n",
       "      <td>0.014678</td>\n",
       "      <td>0.029355</td>\n",
       "      <td>0.045920</td>\n",
       "      <td>0.083168</td>\n",
       "      <td>0.020422</td>\n",
       "    </tr>\n",
       "    <tr>\n",
       "      <th>WMT</th>\n",
       "      <td>0.034055</td>\n",
       "      <td>0.026072</td>\n",
       "      <td>0.038938</td>\n",
       "      <td>0.027376</td>\n",
       "      <td>0.012730</td>\n",
       "      <td>0.022980</td>\n",
       "      <td>0.022814</td>\n",
       "      <td>0.030303</td>\n",
       "      <td>0.027395</td>\n",
       "      <td>0.020167</td>\n",
       "      <td>0.020422</td>\n",
       "      <td>0.060173</td>\n",
       "    </tr>\n",
       "  </tbody>\n",
       "</table>\n",
       "</div>"
      ],
      "text/plain": [
       "           AAPL       BAC      COST     GOOGL      HSBC       JNJ       JPM  \\\n",
       "AAPL   0.121165  0.061165  0.053809  0.080949  0.034183  0.031553  0.056008   \n",
       "BAC    0.061165  0.154627  0.032500  0.060549  0.079432  0.035268  0.126314   \n",
       "COST   0.053809  0.032500  0.068913  0.045715  0.017938  0.024322  0.029896   \n",
       "GOOGL  0.080949  0.060549  0.045715  0.117288  0.034105  0.027032  0.053859   \n",
       "HSBC   0.034183  0.079432  0.017938  0.034105  0.104468  0.020430  0.071834   \n",
       "JNJ    0.031553  0.035268  0.024322  0.027032  0.020430  0.047214  0.032547   \n",
       "JPM    0.056008  0.126314  0.029896  0.053859  0.071834  0.032547  0.128703   \n",
       "KR     0.018102  0.013358  0.028656  0.011362  0.006702  0.016159  0.009901   \n",
       "META   0.099681  0.064866  0.050831  0.110004  0.035027  0.025841  0.056887   \n",
       "MRNA   0.046887  0.008361  0.029599  0.041717  0.000740  0.016916  0.005120   \n",
       "PFE    0.031710  0.039712  0.024225  0.030035  0.021567  0.033679  0.037643   \n",
       "WMT    0.034055  0.026072  0.038938  0.027376  0.012730  0.022980  0.022814   \n",
       "\n",
       "             KR      META      MRNA       PFE       WMT  \n",
       "AAPL   0.018102  0.099681  0.046887  0.031710  0.034055  \n",
       "BAC    0.013358  0.064866  0.008361  0.039712  0.026072  \n",
       "COST   0.028656  0.050831  0.029599  0.024225  0.038938  \n",
       "GOOGL  0.011362  0.110004  0.041717  0.030035  0.027376  \n",
       "HSBC   0.006702  0.035027  0.000740  0.021567  0.012730  \n",
       "JNJ    0.016159  0.025841  0.016916  0.033679  0.022980  \n",
       "JPM    0.009901  0.056887  0.005120  0.037643  0.022814  \n",
       "KR     0.094369  0.011114  0.010723  0.014678  0.030303  \n",
       "META   0.011114  0.231565  0.058201  0.029355  0.027395  \n",
       "MRNA   0.010723  0.058201  0.627032  0.045920  0.020167  \n",
       "PFE    0.014678  0.029355  0.045920  0.083168  0.020422  \n",
       "WMT    0.030303  0.027395  0.020167  0.020422  0.060173  "
      ]
     },
     "execution_count": 12,
     "metadata": {},
     "output_type": "execute_result"
    }
   ],
   "source": [
    "S"
   ]
  },
  {
   "cell_type": "code",
   "execution_count": 13,
   "metadata": {},
   "outputs": [
    {
     "data": {
      "text/plain": [
       "AAPL     0.270715\n",
       "BAC     -0.032425\n",
       "COST     0.205818\n",
       "GOOGL    0.187276\n",
       "HSBC     0.033860\n",
       "JNJ      0.074184\n",
       "JPM      0.047438\n",
       "KR       0.175085\n",
       "META     0.086410\n",
       "MRNA     0.583279\n",
       "PFE      0.036102\n",
       "WMT      0.099266\n",
       "dtype: float64"
      ]
     },
     "execution_count": 13,
     "metadata": {},
     "output_type": "execute_result"
    }
   ],
   "source": [
    "mu"
   ]
  },
  {
   "cell_type": "code",
   "execution_count": 14,
   "metadata": {},
   "outputs": [
    {
     "data": {
      "text/plain": [
       "{'AAPL': 0.29354,\n",
       " 'BAC': 0.0,\n",
       " 'COST': 0.26256,\n",
       " 'GOOGL': 0.0,\n",
       " 'HSBC': 0.0,\n",
       " 'JNJ': 0.0,\n",
       " 'JPM': 0.0,\n",
       " 'KR': 0.25644,\n",
       " 'META': 0.0,\n",
       " 'MRNA': 0.18746,\n",
       " 'PFE': 0.0,\n",
       " 'WMT': 0.0}"
      ]
     },
     "execution_count": 14,
     "metadata": {},
     "output_type": "execute_result"
    }
   ],
   "source": [
    "from pypfopt.efficient_frontier import EfficientFrontier\n",
    "\n",
    "ef = EfficientFrontier(mu, S)\n",
    "weights = ef.max_sharpe()\n",
    "cleaned_weights = ef.clean_weights()\n",
    "dict(cleaned_weights)"
   ]
  },
  {
   "cell_type": "code",
   "execution_count": 15,
   "metadata": {},
   "outputs": [
    {
     "name": "stdout",
     "output_type": "stream",
     "text": [
      "Expected annual return: 28.8%\n",
      "Annual volatility: 26.0%\n",
      "Sharpe Ratio: 1.03\n"
     ]
    },
    {
     "data": {
      "text/plain": [
       "(0.287743944699225, 0.25964177456196297, 1.031205187034833)"
      ]
     },
     "execution_count": 15,
     "metadata": {},
     "output_type": "execute_result"
    }
   ],
   "source": [
    "ef.portfolio_performance(verbose=True)"
   ]
  },
  {
   "cell_type": "code",
   "execution_count": 16,
   "metadata": {},
   "outputs": [
    {
     "data": {
      "text/plain": [
       "('Discrete allocation:', {'AAPL': 168, 'COST': 48, 'KR': 539, 'MRNA': 185})"
      ]
     },
     "execution_count": 16,
     "metadata": {},
     "output_type": "execute_result"
    }
   ],
   "source": [
    "from pypfopt.discrete_allocation import DiscreteAllocation, get_latest_prices\n",
    "latest_prices = get_latest_prices(portfolio)\n",
    "\n",
    "da = DiscreteAllocation(weights, latest_prices, total_portfolio_value=100000)\n",
    "\n",
    "allocation, leftover = da.greedy_portfolio()\n",
    "\"Discrete allocation:\", allocation"
   ]
  },
  {
   "cell_type": "code",
   "execution_count": 17,
   "metadata": {},
   "outputs": [
    {
     "data": {
      "text/plain": [
       "'Funds remaining: $137.96'"
      ]
     },
     "execution_count": 17,
     "metadata": {},
     "output_type": "execute_result"
    }
   ],
   "source": [
    "\"Funds remaining: ${:.2f}\".format(leftover)"
   ]
  },
  {
   "cell_type": "markdown",
   "metadata": {},
   "source": [
    "# HRP - Hierarchical Risk Parity"
   ]
  },
  {
   "cell_type": "code",
   "execution_count": 18,
   "metadata": {},
   "outputs": [],
   "source": [
    "returns = portfolio.pct_change().dropna()\n"
   ]
  },
  {
   "cell_type": "code",
   "execution_count": 19,
   "metadata": {},
   "outputs": [
    {
     "data": {
      "text/html": [
       "<div>\n",
       "<style scoped>\n",
       "    .dataframe tbody tr th:only-of-type {\n",
       "        vertical-align: middle;\n",
       "    }\n",
       "\n",
       "    .dataframe tbody tr th {\n",
       "        vertical-align: top;\n",
       "    }\n",
       "\n",
       "    .dataframe thead th {\n",
       "        text-align: right;\n",
       "    }\n",
       "</style>\n",
       "<table border=\"1\" class=\"dataframe\">\n",
       "  <thead>\n",
       "    <tr style=\"text-align: right;\">\n",
       "      <th></th>\n",
       "      <th>AAPL</th>\n",
       "      <th>BAC</th>\n",
       "      <th>COST</th>\n",
       "      <th>GOOGL</th>\n",
       "      <th>HSBC</th>\n",
       "      <th>JNJ</th>\n",
       "      <th>JPM</th>\n",
       "      <th>KR</th>\n",
       "      <th>META</th>\n",
       "      <th>MRNA</th>\n",
       "      <th>PFE</th>\n",
       "      <th>WMT</th>\n",
       "    </tr>\n",
       "  </thead>\n",
       "  <tbody>\n",
       "    <tr>\n",
       "      <th>1</th>\n",
       "      <td>-0.009722</td>\n",
       "      <td>-0.020763</td>\n",
       "      <td>0.000823</td>\n",
       "      <td>-0.005231</td>\n",
       "      <td>-0.015494</td>\n",
       "      <td>-0.011578</td>\n",
       "      <td>-0.013196</td>\n",
       "      <td>0.001396</td>\n",
       "      <td>-0.005291</td>\n",
       "      <td>-0.017681</td>\n",
       "      <td>-0.005365</td>\n",
       "      <td>-0.008828</td>\n",
       "    </tr>\n",
       "    <tr>\n",
       "      <th>2</th>\n",
       "      <td>0.007968</td>\n",
       "      <td>-0.001433</td>\n",
       "      <td>0.000274</td>\n",
       "      <td>0.026654</td>\n",
       "      <td>-0.003354</td>\n",
       "      <td>-0.001248</td>\n",
       "      <td>-0.000795</td>\n",
       "      <td>0.003484</td>\n",
       "      <td>0.018834</td>\n",
       "      <td>-0.040233</td>\n",
       "      <td>-0.001285</td>\n",
       "      <td>-0.002036</td>\n",
       "    </tr>\n",
       "    <tr>\n",
       "      <th>3</th>\n",
       "      <td>-0.004703</td>\n",
       "      <td>-0.006600</td>\n",
       "      <td>-0.001576</td>\n",
       "      <td>-0.001932</td>\n",
       "      <td>-0.007507</td>\n",
       "      <td>0.006106</td>\n",
       "      <td>-0.017000</td>\n",
       "      <td>-0.007291</td>\n",
       "      <td>0.002164</td>\n",
       "      <td>-0.019305</td>\n",
       "      <td>-0.003343</td>\n",
       "      <td>-0.009265</td>\n",
       "    </tr>\n",
       "    <tr>\n",
       "      <th>4</th>\n",
       "      <td>0.016086</td>\n",
       "      <td>0.010110</td>\n",
       "      <td>0.011464</td>\n",
       "      <td>0.007118</td>\n",
       "      <td>-0.002347</td>\n",
       "      <td>-0.000137</td>\n",
       "      <td>0.007801</td>\n",
       "      <td>-0.005946</td>\n",
       "      <td>0.010138</td>\n",
       "      <td>0.011249</td>\n",
       "      <td>0.008000</td>\n",
       "      <td>-0.003432</td>\n",
       "    </tr>\n",
       "    <tr>\n",
       "      <th>5</th>\n",
       "      <td>0.021241</td>\n",
       "      <td>0.001716</td>\n",
       "      <td>0.016051</td>\n",
       "      <td>0.010498</td>\n",
       "      <td>0.006536</td>\n",
       "      <td>0.002966</td>\n",
       "      <td>0.003651</td>\n",
       "      <td>0.000704</td>\n",
       "      <td>0.014311</td>\n",
       "      <td>0.023359</td>\n",
       "      <td>-0.004352</td>\n",
       "      <td>0.010330</td>\n",
       "    </tr>\n",
       "    <tr>\n",
       "      <th>...</th>\n",
       "      <td>...</td>\n",
       "      <td>...</td>\n",
       "      <td>...</td>\n",
       "      <td>...</td>\n",
       "      <td>...</td>\n",
       "      <td>...</td>\n",
       "      <td>...</td>\n",
       "      <td>...</td>\n",
       "      <td>...</td>\n",
       "      <td>...</td>\n",
       "      <td>...</td>\n",
       "      <td>...</td>\n",
       "    </tr>\n",
       "    <tr>\n",
       "      <th>909</th>\n",
       "      <td>0.009393</td>\n",
       "      <td>-0.011505</td>\n",
       "      <td>-0.002647</td>\n",
       "      <td>0.013662</td>\n",
       "      <td>-0.008227</td>\n",
       "      <td>-0.002358</td>\n",
       "      <td>0.002072</td>\n",
       "      <td>-0.002670</td>\n",
       "      <td>0.015084</td>\n",
       "      <td>-0.014681</td>\n",
       "      <td>0.000832</td>\n",
       "      <td>-0.007444</td>\n",
       "    </tr>\n",
       "    <tr>\n",
       "      <th>910</th>\n",
       "      <td>-0.011200</td>\n",
       "      <td>-0.032008</td>\n",
       "      <td>-0.005272</td>\n",
       "      <td>-0.011802</td>\n",
       "      <td>-0.029160</td>\n",
       "      <td>-0.002883</td>\n",
       "      <td>-0.025457</td>\n",
       "      <td>-0.012562</td>\n",
       "      <td>-0.013848</td>\n",
       "      <td>-0.035900</td>\n",
       "      <td>-0.018852</td>\n",
       "      <td>-0.005125</td>\n",
       "    </tr>\n",
       "    <tr>\n",
       "      <th>911</th>\n",
       "      <td>-0.004959</td>\n",
       "      <td>-0.021710</td>\n",
       "      <td>0.000967</td>\n",
       "      <td>-0.008322</td>\n",
       "      <td>-0.016313</td>\n",
       "      <td>-0.003180</td>\n",
       "      <td>-0.004243</td>\n",
       "      <td>-0.019395</td>\n",
       "      <td>-0.025368</td>\n",
       "      <td>0.026035</td>\n",
       "      <td>0.002543</td>\n",
       "      <td>0.000503</td>\n",
       "    </tr>\n",
       "    <tr>\n",
       "      <th>912</th>\n",
       "      <td>-0.014555</td>\n",
       "      <td>-0.000341</td>\n",
       "      <td>-0.021358</td>\n",
       "      <td>0.009479</td>\n",
       "      <td>-0.001579</td>\n",
       "      <td>0.009397</td>\n",
       "      <td>-0.010387</td>\n",
       "      <td>-0.005955</td>\n",
       "      <td>-0.031262</td>\n",
       "      <td>0.073999</td>\n",
       "      <td>0.029030</td>\n",
       "      <td>-0.022416</td>\n",
       "    </tr>\n",
       "    <tr>\n",
       "      <th>913</th>\n",
       "      <td>0.002816</td>\n",
       "      <td>-0.005806</td>\n",
       "      <td>-0.003966</td>\n",
       "      <td>-0.018935</td>\n",
       "      <td>-0.007118</td>\n",
       "      <td>-0.008735</td>\n",
       "      <td>0.002288</td>\n",
       "      <td>0.017758</td>\n",
       "      <td>-0.006454</td>\n",
       "      <td>-0.043486</td>\n",
       "      <td>0.004109</td>\n",
       "      <td>0.014388</td>\n",
       "    </tr>\n",
       "  </tbody>\n",
       "</table>\n",
       "<p>913 rows × 12 columns</p>\n",
       "</div>"
      ],
      "text/plain": [
       "         AAPL       BAC      COST     GOOGL      HSBC       JNJ       JPM  \\\n",
       "1   -0.009722 -0.020763  0.000823 -0.005231 -0.015494 -0.011578 -0.013196   \n",
       "2    0.007968 -0.001433  0.000274  0.026654 -0.003354 -0.001248 -0.000795   \n",
       "3   -0.004703 -0.006600 -0.001576 -0.001932 -0.007507  0.006106 -0.017000   \n",
       "4    0.016086  0.010110  0.011464  0.007118 -0.002347 -0.000137  0.007801   \n",
       "5    0.021241  0.001716  0.016051  0.010498  0.006536  0.002966  0.003651   \n",
       "..        ...       ...       ...       ...       ...       ...       ...   \n",
       "909  0.009393 -0.011505 -0.002647  0.013662 -0.008227 -0.002358  0.002072   \n",
       "910 -0.011200 -0.032008 -0.005272 -0.011802 -0.029160 -0.002883 -0.025457   \n",
       "911 -0.004959 -0.021710  0.000967 -0.008322 -0.016313 -0.003180 -0.004243   \n",
       "912 -0.014555 -0.000341 -0.021358  0.009479 -0.001579  0.009397 -0.010387   \n",
       "913  0.002816 -0.005806 -0.003966 -0.018935 -0.007118 -0.008735  0.002288   \n",
       "\n",
       "           KR      META      MRNA       PFE       WMT  \n",
       "1    0.001396 -0.005291 -0.017681 -0.005365 -0.008828  \n",
       "2    0.003484  0.018834 -0.040233 -0.001285 -0.002036  \n",
       "3   -0.007291  0.002164 -0.019305 -0.003343 -0.009265  \n",
       "4   -0.005946  0.010138  0.011249  0.008000 -0.003432  \n",
       "5    0.000704  0.014311  0.023359 -0.004352  0.010330  \n",
       "..        ...       ...       ...       ...       ...  \n",
       "909 -0.002670  0.015084 -0.014681  0.000832 -0.007444  \n",
       "910 -0.012562 -0.013848 -0.035900 -0.018852 -0.005125  \n",
       "911 -0.019395 -0.025368  0.026035  0.002543  0.000503  \n",
       "912 -0.005955 -0.031262  0.073999  0.029030 -0.022416  \n",
       "913  0.017758 -0.006454 -0.043486  0.004109  0.014388  \n",
       "\n",
       "[913 rows x 12 columns]"
      ]
     },
     "execution_count": 19,
     "metadata": {},
     "output_type": "execute_result"
    }
   ],
   "source": [
    "returns"
   ]
  },
  {
   "cell_type": "code",
   "execution_count": 20,
   "metadata": {},
   "outputs": [
    {
     "data": {
      "text/plain": [
       "{'AAPL': 0.07200234028767809,\n",
       " 'BAC': 0.050360033937352146,\n",
       " 'COST': 0.085798349778068,\n",
       " 'GOOGL': 0.04927768160149862,\n",
       " 'HSBC': 0.1231264778046757,\n",
       " 'JNJ': 0.14234635528431897,\n",
       " 'JPM': 0.04597942028946618,\n",
       " 'KR': 0.1368306857653712,\n",
       " 'META': 0.025229068616900344,\n",
       " 'MRNA': 0.021308257730491983,\n",
       " 'PFE': 0.0779932662473277,\n",
       " 'WMT': 0.16974806265685102}"
      ]
     },
     "execution_count": 20,
     "metadata": {},
     "output_type": "execute_result"
    }
   ],
   "source": [
    "hrp = HRPOpt(returns)\n",
    "hrp_weights = hrp.optimize()\n",
    "dict(hrp_weights)"
   ]
  },
  {
   "cell_type": "code",
   "execution_count": 21,
   "metadata": {},
   "outputs": [
    {
     "name": "stdout",
     "output_type": "stream",
     "text": [
      "Expected annual return: 16.0%\n",
      "Annual volatility: 18.7%\n",
      "Sharpe Ratio: 0.75\n"
     ]
    },
    {
     "data": {
      "text/plain": [
       "(0.15985365557873366, 0.18735095157190373, 0.7464795583120324)"
      ]
     },
     "execution_count": 21,
     "metadata": {},
     "output_type": "execute_result"
    }
   ],
   "source": [
    "hrp.portfolio_performance(verbose=True)"
   ]
  },
  {
   "cell_type": "code",
   "execution_count": 22,
   "metadata": {},
   "outputs": [
    {
     "data": {
      "text/plain": [
       "('Discrete allocation (HRP):',\n",
       " {'WMT': 107,\n",
       "  'JNJ': 83,\n",
       "  'KR': 287,\n",
       "  'HSBC': 326,\n",
       "  'COST': 16,\n",
       "  'PFE': 212,\n",
       "  'AAPL': 41,\n",
       "  'BAC': 175,\n",
       "  'GOOGL': 39,\n",
       "  'JPM': 31,\n",
       "  'META': 9,\n",
       "  'MRNA': 21})"
      ]
     },
     "execution_count": 22,
     "metadata": {},
     "output_type": "execute_result"
    }
   ],
   "source": [
    "initial_investment = 100000  # For example, your initial investment was $100,000\n",
    "\n",
    "da_hrp = DiscreteAllocation(hrp_weights, latest_prices, total_portfolio_value=initial_investment)\n",
    "\n",
    "allocation, leftover = da_hrp.greedy_portfolio()\n",
    "\"Discrete allocation (HRP):\", allocation"
   ]
  },
  {
   "cell_type": "code",
   "execution_count": 23,
   "metadata": {},
   "outputs": [
    {
     "data": {
      "text/plain": [
       "'Funds remaining (HRP): $5.23'"
      ]
     },
     "execution_count": 23,
     "metadata": {},
     "output_type": "execute_result"
    }
   ],
   "source": [
    "\"Funds remaining (HRP): ${:.2f}\".format(leftover)"
   ]
  },
  {
   "cell_type": "markdown",
   "metadata": {},
   "source": [
    "Backtesting HRP"
   ]
  },
  {
   "cell_type": "code",
   "execution_count": 24,
   "metadata": {},
   "outputs": [
    {
     "data": {
      "image/png": "[encoded data removed]",
      "text/plain": [
       "<Figure size 1000x600 with 1 Axes>"
      ]
     },
     "metadata": {},
     "output_type": "display_data"
    },
    {
     "name": "stdout",
     "output_type": "stream",
     "text": [
      "Portfolio would be worth: $167453.89 today.\n",
      "AAPL:\n",
      "  Initial Value: $7200.23\n",
      "  Final Value: $17152.02\n",
      "  Growth: 138.21%\n",
      "BAC:\n",
      "  Initial Value: $5036.00\n",
      "  Final Value: $4469.11\n",
      "  Growth: -11.26%\n",
      "COST:\n",
      "  Initial Value: $8579.83\n",
      "  Final Value: $16902.99\n",
      "  Growth: 97.01%\n",
      "GOOGL:\n",
      "  Initial Value: $4927.77\n",
      "  Final Value: $9178.09\n",
      "  Growth: 86.25%\n",
      "HSBC:\n",
      "  Initial Value: $12312.65\n",
      "  Final Value: $13891.43\n",
      "  Growth: 12.82%\n",
      "JNJ:\n",
      "  Initial Value: $14234.64\n",
      "  Final Value: $18447.82\n",
      "  Growth: 29.60%\n",
      "JPM:\n",
      "  Initial Value: $4597.94\n",
      "  Final Value: $5438.62\n",
      "  Growth: 18.28%\n",
      "KR:\n",
      "  Initial Value: $13683.07\n",
      "  Final Value: $24549.66\n",
      "  Growth: 79.42%\n",
      "META:\n",
      "  Initial Value: $2522.91\n",
      "  Final Value: $3406.49\n",
      "  Growth: 35.02%\n",
      "MRNA:\n",
      "  Initial Value: $2130.83\n",
      "  Final Value: $11260.25\n",
      "  Growth: 428.45%\n",
      "PFE:\n",
      "  Initial Value: $7799.33\n",
      "  Final Value: $8868.72\n",
      "  Growth: 13.71%\n",
      "WMT:\n",
      "  Initial Value: $16974.81\n",
      "  Final Value: $23917.81\n",
      "  Growth: 40.90%\n"
     ]
    }
   ],
   "source": [
    "portfolio_daily_returns = (hrp_weights * returns).sum(axis=1)\n",
    "cumulative_returns = (1 + portfolio_daily_returns).cumprod()\n",
    "# Individual Stock Cumulative Returns\n",
    "individual_cumulative_returns = (1 + returns).cumprod()\n",
    "sharpe_ratio = np.mean(portfolio_daily_returns) / np.std(portfolio_daily_returns)\n",
    "\n",
    "# Calculate final value and % growth for each stock\n",
    "individual_growth = {}\n",
    "for stock, weight in hrp_weights.items():\n",
    "    initial_value = initial_investment * weight\n",
    "    final_value = initial_value * individual_cumulative_returns[stock].iloc[-1]\n",
    "    growth_percent = ((final_value - initial_value) / initial_value) * 100\n",
    "    individual_growth[stock] = {\n",
    "        \"Initial Value\": initial_value,\n",
    "        \"Final Value\": final_value,\n",
    "        \"Growth (%)\": growth_percent\n",
    "    }\n",
    "\n",
    "final_portfolio_worth = initial_investment * cumulative_returns.iloc[-1]\n",
    "\n",
    "# Visualization\n",
    "fig, ax1 = plt.subplots(figsize=(10,6))\n",
    "\n",
    "ax1.plot(cumulative_returns.index, cumulative_returns, label='HRP Portfolio')\n",
    "ax1.set_title('Cumulative Portfolio Returns')\n",
    "ax1.set_xlabel('Date')\n",
    "ax1.set_ylabel('Cumulative Returns')\n",
    "ax1.legend(loc='upper left')\n",
    "\n",
    "fig.autofmt_xdate()  # Rotate x labels for better visibility\n",
    "\n",
    "plt.show()\n",
    "\n",
    "print(f\"Portfolio would be worth: ${final_portfolio_worth:.2f} today.\")\n",
    "\n",
    "# Print individual stock growth\n",
    "for stock, metrics in individual_growth.items():\n",
    "    print(f\"{stock}:\")\n",
    "    print(f\"  Initial Value: ${metrics['Initial Value']:.2f}\")\n",
    "    print(f\"  Final Value: ${metrics['Final Value']:.2f}\")\n",
    "    print(f\"  Growth: {metrics['Growth (%)']:.2f}%\")"
   ]
  },
  {
   "cell_type": "code",
   "execution_count": 25,
   "metadata": {},
   "outputs": [
    {
     "name": "stdout",
     "output_type": "stream",
     "text": [
      "Expected annual return: 16.0%\n",
      "Annual volatility: 18.7%\n",
      "Sharpe Ratio: 0.75\n"
     ]
    },
    {
     "data": {
      "text/plain": [
       "(0.15985365557873366, 0.18735095157190373, 0.7464795583120324)"
      ]
     },
     "execution_count": 25,
     "metadata": {},
     "output_type": "execute_result"
    }
   ],
   "source": [
    "hrp.portfolio_performance(verbose=True)"
   ]
  }
 ],
 "metadata": {
  "kernelspec": {
   "display_name": "Python 3.9.6 64-bit",
   "language": "python",
   "name": "python3"
  },
  "language_info": {
   "codemirror_mode": {
    "name": "ipython",
    "version": 3
   },
   "file_extension": ".py",
   "mimetype": "text/x-python",
   "name": "python",
   "nbconvert_exporter": "python",
   "pygments_lexer": "ipython3",
   "version": "3.9.6"
  },
  "orig_nbformat": 4,
  "vscode": {
   "interpreter": {
    "hash": "31f2aee4e71d21fbe5cf8b01ff0e069b9275f58929596ceb00d14d90e3e16cd6"
   }
  }
 },
 "nbformat": 4,
 "nbformat_minor": 2
}
